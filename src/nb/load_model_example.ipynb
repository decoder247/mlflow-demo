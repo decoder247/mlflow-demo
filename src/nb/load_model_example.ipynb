{
 "cells": [
  {
   "cell_type": "code",
   "execution_count": 4,
   "metadata": {},
   "outputs": [],
   "source": [
    "from mlflow import sklearn, set_tracking_uri,get_tracking_uri,get_artifact_uri,set_registry_uri,pyfunc,get_registry_uri\n",
    "from os import getcwd\n",
    "from pathlib import Path\n",
    "from mlflow import MlflowClient\n",
    "from dc2_python_utils.python_utils_general.utils_log_formatting import print_json"
   ]
  },
  {
   "cell_type": "code",
   "execution_count": 12,
   "metadata": {},
   "outputs": [
    {
     "name": "stdout",
     "output_type": "stream",
     "text": [
      "ElasticNet(alpha=0.5, random_state=42)\n"
     ]
    }
   ],
   "source": [
    "root_dir = Path(getcwd()).parent.parent\n",
    "LOCAL_MODEL_FILE = f\"{root_dir}/mlartifacts/0/96e1f37792104fc7828b1ec1a4aba835/artifacts/model\"\n",
    "\n",
    "# Loading a model explicitly via local path\n",
    "model = sklearn.load_model(LOCAL_MODEL_FILE)\n",
    "print(model)"
   ]
  },
  {
   "cell_type": "code",
   "execution_count": 3,
   "metadata": {},
   "outputs": [
    {
     "name": "stdout",
     "output_type": "stream",
     "text": [
      "\n",
      "Tracking URI: file:///Users/iliono/My%20Drive/Homefiles/repos-mac/mlflow-demo/src/nb/mlruns\n",
      "Artifact URI: file:///Users/iliono/My%20Drive/Homefiles/repos-mac/mlflow-demo/src/nb/mlruns/0/ec392702eaf746789e4d4a0c04d489de/artifacts\n",
      "\n"
     ]
    }
   ],
   "source": [
    "MLFLOW_SERVER_ADDRESS = \"http://127.0.0.1:5000\"\n",
    "print(f\"\"\"\n",
    "Tracking URI: {get_tracking_uri()}\n",
    "Artifact URI: {get_artifact_uri()}\n",
    "\"\"\")"
   ]
  },
  {
   "cell_type": "code",
   "execution_count": 10,
   "metadata": {},
   "outputs": [
    {
     "data": {
      "text/plain": [
       "<RegisteredModel: aliases={}, creation_timestamp=1684775539780, description='', last_updated_timestamp=1684775547152, latest_versions=[<ModelVersion: aliases=[], creation_timestamp=1684775547152, current_stage='None', description='', last_updated_timestamp=1684775547152, name='ElasticnetWineModel', run_id='78aaf6ed8244433fb1368b346cbea931', run_link='', source=('/Users/iliono/My '\n",
       " 'Drive/Homefiles/repos-mac/mlflow-demo/mlruns/0/78aaf6ed8244433fb1368b346cbea931/artifacts/model'), status='READY', status_message='', tags={}, user_id='', version='3'>], name='ElasticnetWineModel', tags={}>"
      ]
     },
     "execution_count": 10,
     "metadata": {},
     "output_type": "execute_result"
    }
   ],
   "source": [
    "client = MlflowClient(tracking_uri=MLFLOW_SERVER_ADDRESS) # Registry_uri implicitly defaults to tracking_uri\n",
    "client.search_registered_models()[0]"
   ]
  },
  {
   "cell_type": "code",
   "execution_count": 27,
   "metadata": {},
   "outputs": [
    {
     "name": "stderr",
     "output_type": "stream",
     "text": [
      "2023/05/22 17:47:28 WARNING mlflow.pyfunc: Detected one or more mismatches between the model's dependencies and the current Python environment:\n",
      " - mlflow (current: 2.3.2, required: mlflow==2.3)\n",
      "To fix the mismatches, call `mlflow.pyfunc.get_model_dependencies(model_uri)` to fetch the model's environment and install dependencies using the resulting environment file.\n"
     ]
    },
    {
     "data": {
      "text/plain": [
       "mlflow.pyfunc.loaded_model:\n",
       "  artifact_path: model\n",
       "  flavor: mlflow.sklearn\n",
       "  run_id: e508b262677a4e1f8bf792ab9710e61a"
      ]
     },
     "execution_count": 27,
     "metadata": {},
     "output_type": "execute_result"
    }
   ],
   "source": [
    "set_tracking_uri(client.tracking_uri)\n",
    "#set_registry_uri(client._registry_uri)\n",
    "\n",
    "model_name = \"ElasticnetWineModel\"\n",
    "model_version = 1\n",
    "\n",
    "model = pyfunc.load_model(model_uri=f\"models:/{model_name}/{model_version}\")\n",
    "\n",
    "model"
   ]
  },
  {
   "cell_type": "code",
   "execution_count": 26,
   "metadata": {},
   "outputs": [
    {
     "name": "stderr",
     "output_type": "stream",
     "text": [
      "2023/05/22 17:13:40 WARNING mlflow.pyfunc: Detected one or more mismatches between the model's dependencies and the current Python environment:\n",
      " - mlflow (current: 2.3.2, required: mlflow==2.3)\n",
      "To fix the mismatches, call `mlflow.pyfunc.get_model_dependencies(model_uri)` to fetch the model's environment and install dependencies using the resulting environment file.\n"
     ]
    },
    {
     "data": {
      "text/plain": [
       "mlflow.pyfunc.loaded_model:\n",
       "  artifact_path: model\n",
       "  flavor: mlflow.sklearn\n",
       "  run_id: 72b996da80954a429462732cd4e599a8"
      ]
     },
     "execution_count": 26,
     "metadata": {},
     "output_type": "execute_result"
    }
   ],
   "source": [
    "pyfunc.load_model('mlflow-artifacts:/0/72b996da80954a429462732cd4e599a8/artifacts/model')"
   ]
  },
  {
   "cell_type": "code",
   "execution_count": 30,
   "metadata": {},
   "outputs": [
    {
     "data": {
      "text/plain": [
       "'http://127.0.0.1:5000'"
      ]
     },
     "execution_count": 30,
     "metadata": {},
     "output_type": "execute_result"
    }
   ],
   "source": [
    "get_registry_uri()"
   ]
  },
  {
   "cell_type": "code",
   "execution_count": null,
   "metadata": {},
   "outputs": [],
   "source": []
  }
 ],
 "metadata": {
  "kernelspec": {
   "display_name": "Python 3 (ipykernel)",
   "language": "python",
   "name": "python3"
  },
  "language_info": {
   "codemirror_mode": {
    "name": "ipython",
    "version": 3
   },
   "file_extension": ".py",
   "mimetype": "text/x-python",
   "name": "python",
   "nbconvert_exporter": "python",
   "pygments_lexer": "ipython3",
   "version": "3.11.3"
  },
  "orig_nbformat": 4
 },
 "nbformat": 4,
 "nbformat_minor": 2
}
